{
 "cells": [
  {
   "cell_type": "code",
   "execution_count": 2,
   "id": "55bd4cb8-4bf1-48f8-bcb3-11375f947e31",
   "metadata": {},
   "outputs": [],
   "source": [
    "import tkinter as tk\n"
   ]
  },
  {
   "cell_type": "code",
   "execution_count": 3,
   "id": "ab248bcb-4c77-442b-a12d-9bb89965d029",
   "metadata": {},
   "outputs": [],
   "source": [
    "from cx_Freeze import setup, Executable\n"
   ]
  },
  {
   "cell_type": "code",
   "execution_count": 4,
   "id": "bc3e8b53-753d-4d63-9f31-ae485850acbd",
   "metadata": {},
   "outputs": [],
   "source": [
    "import torch, pandas "
   ]
  },
  {
   "cell_type": "code",
   "execution_count": 5,
   "id": "74fb7e63-4b89-43ce-a98d-06871d43f416",
   "metadata": {},
   "outputs": [
    {
     "data": {
      "text/plain": [
       "('1.12.1+cu116', '1.5.0')"
      ]
     },
     "execution_count": 5,
     "metadata": {},
     "output_type": "execute_result"
    }
   ],
   "source": [
    "torch.__version__, pandas.__version__"
   ]
  },
  {
   "cell_type": "code",
   "execution_count": null,
   "id": "20a31617-7550-424c-8119-fd76d66c1cfa",
   "metadata": {},
   "outputs": [],
   "source": []
  }
 ],
 "metadata": {
  "kernelspec": {
   "display_name": "Python 3 (ipykernel)",
   "language": "python",
   "name": "python3"
  },
  "language_info": {
   "codemirror_mode": {
    "name": "ipython",
    "version": 3
   },
   "file_extension": ".py",
   "mimetype": "text/x-python",
   "name": "python",
   "nbconvert_exporter": "python",
   "pygments_lexer": "ipython3",
   "version": "3.9.16"
  }
 },
 "nbformat": 4,
 "nbformat_minor": 5
}
